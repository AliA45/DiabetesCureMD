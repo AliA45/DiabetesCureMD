{
  "nbformat": 4,
  "nbformat_minor": 0,
  "metadata": {
    "colab": {
      "name": "DiabeticCureMD.ipynb",
      "provenance": [],
      "collapsed_sections": []
    },
    "kernelspec": {
      "name": "python3",
      "display_name": "Python 3"
    },
    "language_info": {
      "name": "python"
    },
    "accelerator": "GPU"
  },
  "cells": [
    {
      "cell_type": "code",
      "source": [
        "import pandas as pd\n",
        "import matplotlib.pyplot as plt\n",
        "import seaborn as sns\n",
        "import numpy as np\n",
        "from sklearn.model_selection import train_test_split\n",
        "from sklearn.preprocessing import StandardScaler\n",
        "from sklearn.metrics import accuracy_score\n",
        "from google.colab import drive\n",
        "drive.mount(\"/content/gdrive/\")\n",
        "import warnings\n",
        "warnings.filterwarnings(\"ignore\")\n"
      ],
      "metadata": {
        "colab": {
          "base_uri": "https://localhost:8080/"
        },
        "id": "ndrgausYP-sJ",
        "outputId": "e4b3fc24-5875-40d7-fc69-1ad1f4cdfaea"
      },
      "execution_count": null,
      "outputs": [
        {
          "output_type": "stream",
          "name": "stdout",
          "text": [
            "Mounted at /content/gdrive/\n"
          ]
        }
      ]
    },
    {
      "cell_type": "code",
      "source": [
        "df = pd.read_csv('/content/gdrive/My Drive/diabetes.csv')\n",
        "df.head()"
      ],
      "metadata": {
        "colab": {
          "base_uri": "https://localhost:8080/",
          "height": 206
        },
        "id": "wME3FSuE4mxK",
        "outputId": "0dc72f87-ad10-4cdc-d86f-b4d481994288"
      },
      "execution_count": null,
      "outputs": [
        {
          "output_type": "execute_result",
          "data": {
            "text/plain": [
              "   Pregnancies  Glucose  BloodPressure  SkinThickness  Insulin   BMI  \\\n",
              "0            6      148             72             35        0  33.6   \n",
              "1            1       85             66             29        0  26.6   \n",
              "2            8      183             64              0        0  23.3   \n",
              "3            1       89             66             23       94  28.1   \n",
              "4            0      137             40             35      168  43.1   \n",
              "\n",
              "   DiabetesPedigreeFunction  Age  Outcome  \n",
              "0                     0.627   50        1  \n",
              "1                     0.351   31        0  \n",
              "2                     0.672   32        1  \n",
              "3                     0.167   21        0  \n",
              "4                     2.288   33        1  "
            ],
            "text/html": [
              "\n",
              "  <div id=\"df-237f9576-e383-4453-b2b4-2cbf0f2e2bd8\">\n",
              "    <div class=\"colab-df-container\">\n",
              "      <div>\n",
              "<style scoped>\n",
              "    .dataframe tbody tr th:only-of-type {\n",
              "        vertical-align: middle;\n",
              "    }\n",
              "\n",
              "    .dataframe tbody tr th {\n",
              "        vertical-align: top;\n",
              "    }\n",
              "\n",
              "    .dataframe thead th {\n",
              "        text-align: right;\n",
              "    }\n",
              "</style>\n",
              "<table border=\"1\" class=\"dataframe\">\n",
              "  <thead>\n",
              "    <tr style=\"text-align: right;\">\n",
              "      <th></th>\n",
              "      <th>Pregnancies</th>\n",
              "      <th>Glucose</th>\n",
              "      <th>BloodPressure</th>\n",
              "      <th>SkinThickness</th>\n",
              "      <th>Insulin</th>\n",
              "      <th>BMI</th>\n",
              "      <th>DiabetesPedigreeFunction</th>\n",
              "      <th>Age</th>\n",
              "      <th>Outcome</th>\n",
              "    </tr>\n",
              "  </thead>\n",
              "  <tbody>\n",
              "    <tr>\n",
              "      <th>0</th>\n",
              "      <td>6</td>\n",
              "      <td>148</td>\n",
              "      <td>72</td>\n",
              "      <td>35</td>\n",
              "      <td>0</td>\n",
              "      <td>33.6</td>\n",
              "      <td>0.627</td>\n",
              "      <td>50</td>\n",
              "      <td>1</td>\n",
              "    </tr>\n",
              "    <tr>\n",
              "      <th>1</th>\n",
              "      <td>1</td>\n",
              "      <td>85</td>\n",
              "      <td>66</td>\n",
              "      <td>29</td>\n",
              "      <td>0</td>\n",
              "      <td>26.6</td>\n",
              "      <td>0.351</td>\n",
              "      <td>31</td>\n",
              "      <td>0</td>\n",
              "    </tr>\n",
              "    <tr>\n",
              "      <th>2</th>\n",
              "      <td>8</td>\n",
              "      <td>183</td>\n",
              "      <td>64</td>\n",
              "      <td>0</td>\n",
              "      <td>0</td>\n",
              "      <td>23.3</td>\n",
              "      <td>0.672</td>\n",
              "      <td>32</td>\n",
              "      <td>1</td>\n",
              "    </tr>\n",
              "    <tr>\n",
              "      <th>3</th>\n",
              "      <td>1</td>\n",
              "      <td>89</td>\n",
              "      <td>66</td>\n",
              "      <td>23</td>\n",
              "      <td>94</td>\n",
              "      <td>28.1</td>\n",
              "      <td>0.167</td>\n",
              "      <td>21</td>\n",
              "      <td>0</td>\n",
              "    </tr>\n",
              "    <tr>\n",
              "      <th>4</th>\n",
              "      <td>0</td>\n",
              "      <td>137</td>\n",
              "      <td>40</td>\n",
              "      <td>35</td>\n",
              "      <td>168</td>\n",
              "      <td>43.1</td>\n",
              "      <td>2.288</td>\n",
              "      <td>33</td>\n",
              "      <td>1</td>\n",
              "    </tr>\n",
              "  </tbody>\n",
              "</table>\n",
              "</div>\n",
              "      <button class=\"colab-df-convert\" onclick=\"convertToInteractive('df-237f9576-e383-4453-b2b4-2cbf0f2e2bd8')\"\n",
              "              title=\"Convert this dataframe to an interactive table.\"\n",
              "              style=\"display:none;\">\n",
              "        \n",
              "  <svg xmlns=\"http://www.w3.org/2000/svg\" height=\"24px\"viewBox=\"0 0 24 24\"\n",
              "       width=\"24px\">\n",
              "    <path d=\"M0 0h24v24H0V0z\" fill=\"none\"/>\n",
              "    <path d=\"M18.56 5.44l.94 2.06.94-2.06 2.06-.94-2.06-.94-.94-2.06-.94 2.06-2.06.94zm-11 1L8.5 8.5l.94-2.06 2.06-.94-2.06-.94L8.5 2.5l-.94 2.06-2.06.94zm10 10l.94 2.06.94-2.06 2.06-.94-2.06-.94-.94-2.06-.94 2.06-2.06.94z\"/><path d=\"M17.41 7.96l-1.37-1.37c-.4-.4-.92-.59-1.43-.59-.52 0-1.04.2-1.43.59L10.3 9.45l-7.72 7.72c-.78.78-.78 2.05 0 2.83L4 21.41c.39.39.9.59 1.41.59.51 0 1.02-.2 1.41-.59l7.78-7.78 2.81-2.81c.8-.78.8-2.07 0-2.86zM5.41 20L4 18.59l7.72-7.72 1.47 1.35L5.41 20z\"/>\n",
              "  </svg>\n",
              "      </button>\n",
              "      \n",
              "  <style>\n",
              "    .colab-df-container {\n",
              "      display:flex;\n",
              "      flex-wrap:wrap;\n",
              "      gap: 12px;\n",
              "    }\n",
              "\n",
              "    .colab-df-convert {\n",
              "      background-color: #E8F0FE;\n",
              "      border: none;\n",
              "      border-radius: 50%;\n",
              "      cursor: pointer;\n",
              "      display: none;\n",
              "      fill: #1967D2;\n",
              "      height: 32px;\n",
              "      padding: 0 0 0 0;\n",
              "      width: 32px;\n",
              "    }\n",
              "\n",
              "    .colab-df-convert:hover {\n",
              "      background-color: #E2EBFA;\n",
              "      box-shadow: 0px 1px 2px rgba(60, 64, 67, 0.3), 0px 1px 3px 1px rgba(60, 64, 67, 0.15);\n",
              "      fill: #174EA6;\n",
              "    }\n",
              "\n",
              "    [theme=dark] .colab-df-convert {\n",
              "      background-color: #3B4455;\n",
              "      fill: #D2E3FC;\n",
              "    }\n",
              "\n",
              "    [theme=dark] .colab-df-convert:hover {\n",
              "      background-color: #434B5C;\n",
              "      box-shadow: 0px 1px 3px 1px rgba(0, 0, 0, 0.15);\n",
              "      filter: drop-shadow(0px 1px 2px rgba(0, 0, 0, 0.3));\n",
              "      fill: #FFFFFF;\n",
              "    }\n",
              "  </style>\n",
              "\n",
              "      <script>\n",
              "        const buttonEl =\n",
              "          document.querySelector('#df-237f9576-e383-4453-b2b4-2cbf0f2e2bd8 button.colab-df-convert');\n",
              "        buttonEl.style.display =\n",
              "          google.colab.kernel.accessAllowed ? 'block' : 'none';\n",
              "\n",
              "        async function convertToInteractive(key) {\n",
              "          const element = document.querySelector('#df-237f9576-e383-4453-b2b4-2cbf0f2e2bd8');\n",
              "          const dataTable =\n",
              "            await google.colab.kernel.invokeFunction('convertToInteractive',\n",
              "                                                     [key], {});\n",
              "          if (!dataTable) return;\n",
              "\n",
              "          const docLinkHtml = 'Like what you see? Visit the ' +\n",
              "            '<a target=\"_blank\" href=https://colab.research.google.com/notebooks/data_table.ipynb>data table notebook</a>'\n",
              "            + ' to learn more about interactive tables.';\n",
              "          element.innerHTML = '';\n",
              "          dataTable['output_type'] = 'display_data';\n",
              "          await google.colab.output.renderOutput(dataTable, element);\n",
              "          const docLink = document.createElement('div');\n",
              "          docLink.innerHTML = docLinkHtml;\n",
              "          element.appendChild(docLink);\n",
              "        }\n",
              "      </script>\n",
              "    </div>\n",
              "  </div>\n",
              "  "
            ]
          },
          "metadata": {},
          "execution_count": 3
        }
      ]
    },
    {
      "cell_type": "code",
      "source": [
        "df.shape"
      ],
      "metadata": {
        "colab": {
          "base_uri": "https://localhost:8080/"
        },
        "id": "Y7WU857AQP7W",
        "outputId": "8654e3c7-52bf-41b6-9506-c0b0067084b4"
      },
      "execution_count": null,
      "outputs": [
        {
          "output_type": "execute_result",
          "data": {
            "text/plain": [
              "(768, 9)"
            ]
          },
          "metadata": {},
          "execution_count": 4
        }
      ]
    },
    {
      "cell_type": "code",
      "source": [
        "Scaler = StandardScaler()\n",
        "\n",
        "X = df.drop(['Outcome'], axis = 1)\n",
        "y = df[['Outcome']]\n",
        "X_Train, X_Test, y_Train, y_Test = train_test_split(X, y, test_size = 0.1, random_state  = 0)\n",
        "X_train = Scaler.fit_transform(X_Train)\n",
        "X_test = Scaler.transform(X_Test)"
      ],
      "metadata": {
        "id": "ct_XTtUBAoHW"
      },
      "execution_count": null,
      "outputs": []
    },
    {
      "cell_type": "code",
      "source": [
        "X_train.shape"
      ],
      "metadata": {
        "colab": {
          "base_uri": "https://localhost:8080/"
        },
        "id": "eq0ptOVuQihe",
        "outputId": "a8f5eee0-de68-4145-dae9-4064b6ddeec3"
      },
      "execution_count": null,
      "outputs": [
        {
          "output_type": "execute_result",
          "data": {
            "text/plain": [
              "(691, 8)"
            ]
          },
          "metadata": {},
          "execution_count": 6
        }
      ]
    },
    {
      "cell_type": "code",
      "source": [
        "import keras\n",
        "from keras.models import Sequential\n",
        "from keras.layers import Dense, Dropout"
      ],
      "metadata": {
        "id": "h9p7KPs4QlXm"
      },
      "execution_count": null,
      "outputs": []
    },
    {
      "cell_type": "code",
      "source": [
        "import os\n",
        "import csv\n",
        "\n",
        "import pandas as pd\n",
        "import numpy as np\n",
        "from sklearn.metrics import confusion_matrix\n",
        "from sklearn.neighbors import NearestNeighbors, LocalOutlierFactor\n",
        "from nltk.translate.bleu_score import sentence_bleu, SmoothingFunction\n",
        "\n",
        "import keras\n",
        "from keras.models import Sequential\n",
        "from keras.layers import Dense, Dropout\n",
        "\n",
        "from tensorflow import keras\n",
        "import tensorflow as tf\n",
        "import random as python_random\n",
        "from tensorflow.keras import layers\n",
        "from tensorflow.keras.preprocessing import sequence\n",
        "from tensorflow.keras.preprocessing.text import Tokenizer\n",
        "from tensorflow.keras.callbacks import EarlyStopping\n",
        "from tensorflow.keras import backend as K\n",
        "\n",
        "import matplotlib.pyplot as plt\n",
        "import editdistance"
      ],
      "metadata": {
        "id": "XXwsZpA-YyNQ"
      },
      "execution_count": null,
      "outputs": []
    },
    {
      "cell_type": "code",
      "source": [
        "# Define the model structure\n",
        "# Input for variable-length sequences of integers\n",
        "inputs = keras.Input(shape=(None,), dtype=\"int32\")\n",
        "\n",
        "# Embed each integer in a 128-dimensional vector\n",
        "x = layers.Embedding(100, 128)(inputs)\n",
        "\n",
        "# Add 2 bidirectional LSTMs\n",
        "x = layers.Bidirectional(layers.LSTM(64, return_sequences=True))(x)\n",
        "x = layers.Bidirectional(layers.LSTM(64))(x)\n",
        "\n",
        "\n",
        "\n",
        "# Add a classifier\n",
        "outputs = layers.Dense(1, activation=\"sigmoid\")(x)\n",
        "main_model = keras.Model(inputs, outputs)\n",
        "\n",
        "main_model.summary()"
      ],
      "metadata": {
        "colab": {
          "base_uri": "https://localhost:8080/"
        },
        "id": "xgkSDFxeYmkC",
        "outputId": "2242cfaa-ca43-4025-f4ad-befda603798a"
      },
      "execution_count": null,
      "outputs": [
        {
          "output_type": "stream",
          "name": "stdout",
          "text": [
            "Model: \"model\"\n",
            "_________________________________________________________________\n",
            " Layer (type)                Output Shape              Param #   \n",
            "=================================================================\n",
            " input_1 (InputLayer)        [(None, None)]            0         \n",
            "                                                                 \n",
            " embedding (Embedding)       (None, None, 128)         12800     \n",
            "                                                                 \n",
            " bidirectional (Bidirectiona  (None, None, 128)        98816     \n",
            " l)                                                              \n",
            "                                                                 \n",
            " bidirectional_1 (Bidirectio  (None, 128)              98816     \n",
            " nal)                                                            \n",
            "                                                                 \n",
            " dense (Dense)               (None, 1)                 129       \n",
            "                                                                 \n",
            "=================================================================\n",
            "Total params: 210,561\n",
            "Trainable params: 210,561\n",
            "Non-trainable params: 0\n",
            "_________________________________________________________________\n"
          ]
        }
      ]
    },
    {
      "cell_type": "code",
      "source": [
        "main_model.compile(\"adam\", \"binary_crossentropy\", metrics=[\"accuracy\"])\n",
        "\n",
        "model_history = main_model.fit(\n",
        "    X_train, \n",
        "    y_Train, \n",
        "    epochs=30,\n",
        "    batch_size=50, \n",
        "    validation_data=(X_test, y_Test))\n",
        "  "
      ],
      "metadata": {
        "colab": {
          "base_uri": "https://localhost:8080/"
        },
        "id": "sjE0KilYZLLt",
        "outputId": "58efdcaa-de8d-45ff-8771-b7f2063f9933"
      },
      "execution_count": null,
      "outputs": [
        {
          "output_type": "stream",
          "name": "stdout",
          "text": [
            "Epoch 1/30\n",
            "14/14 [==============================] - 14s 166ms/step - loss: 0.6606 - accuracy: 0.6527 - val_loss: 0.6094 - val_accuracy: 0.6623\n",
            "Epoch 2/30\n",
            "14/14 [==============================] - 0s 19ms/step - loss: 0.6284 - accuracy: 0.6512 - val_loss: 0.5896 - val_accuracy: 0.6623\n",
            "Epoch 3/30\n",
            "14/14 [==============================] - 0s 19ms/step - loss: 0.6030 - accuracy: 0.6643 - val_loss: 0.5378 - val_accuracy: 0.7532\n",
            "Epoch 4/30\n",
            "14/14 [==============================] - 0s 18ms/step - loss: 0.5908 - accuracy: 0.6903 - val_loss: 0.5202 - val_accuracy: 0.7792\n",
            "Epoch 5/30\n",
            "14/14 [==============================] - 0s 20ms/step - loss: 0.5769 - accuracy: 0.6946 - val_loss: 0.5350 - val_accuracy: 0.7792\n",
            "Epoch 6/30\n",
            "14/14 [==============================] - 0s 19ms/step - loss: 0.5808 - accuracy: 0.7048 - val_loss: 0.5218 - val_accuracy: 0.7662\n",
            "Epoch 7/30\n",
            "14/14 [==============================] - 0s 18ms/step - loss: 0.5801 - accuracy: 0.6990 - val_loss: 0.5198 - val_accuracy: 0.7792\n",
            "Epoch 8/30\n",
            "14/14 [==============================] - 0s 18ms/step - loss: 0.5760 - accuracy: 0.7120 - val_loss: 0.5244 - val_accuracy: 0.7662\n",
            "Epoch 9/30\n",
            "14/14 [==============================] - 0s 18ms/step - loss: 0.5765 - accuracy: 0.7091 - val_loss: 0.5254 - val_accuracy: 0.7922\n",
            "Epoch 10/30\n",
            "14/14 [==============================] - 0s 20ms/step - loss: 0.5733 - accuracy: 0.7077 - val_loss: 0.5181 - val_accuracy: 0.7532\n",
            "Epoch 11/30\n",
            "14/14 [==============================] - 0s 19ms/step - loss: 0.5746 - accuracy: 0.7164 - val_loss: 0.5243 - val_accuracy: 0.7792\n",
            "Epoch 12/30\n",
            "14/14 [==============================] - 0s 19ms/step - loss: 0.5737 - accuracy: 0.7135 - val_loss: 0.5190 - val_accuracy: 0.7532\n",
            "Epoch 13/30\n",
            "14/14 [==============================] - 0s 19ms/step - loss: 0.5744 - accuracy: 0.7091 - val_loss: 0.5262 - val_accuracy: 0.7532\n",
            "Epoch 14/30\n",
            "14/14 [==============================] - 0s 19ms/step - loss: 0.5755 - accuracy: 0.7236 - val_loss: 0.5301 - val_accuracy: 0.7662\n",
            "Epoch 15/30\n",
            "14/14 [==============================] - 0s 18ms/step - loss: 0.5697 - accuracy: 0.7106 - val_loss: 0.5223 - val_accuracy: 0.7532\n",
            "Epoch 16/30\n",
            "14/14 [==============================] - 0s 19ms/step - loss: 0.5665 - accuracy: 0.7120 - val_loss: 0.5250 - val_accuracy: 0.7662\n",
            "Epoch 17/30\n",
            "14/14 [==============================] - 0s 19ms/step - loss: 0.5685 - accuracy: 0.7106 - val_loss: 0.5196 - val_accuracy: 0.7532\n",
            "Epoch 18/30\n",
            "14/14 [==============================] - 0s 19ms/step - loss: 0.5736 - accuracy: 0.7164 - val_loss: 0.5369 - val_accuracy: 0.7532\n",
            "Epoch 19/30\n",
            "14/14 [==============================] - 0s 18ms/step - loss: 0.5683 - accuracy: 0.7164 - val_loss: 0.5163 - val_accuracy: 0.7532\n",
            "Epoch 20/30\n",
            "14/14 [==============================] - 0s 18ms/step - loss: 0.5637 - accuracy: 0.7192 - val_loss: 0.5147 - val_accuracy: 0.7532\n",
            "Epoch 21/30\n",
            "14/14 [==============================] - 0s 19ms/step - loss: 0.5648 - accuracy: 0.7207 - val_loss: 0.5141 - val_accuracy: 0.7532\n",
            "Epoch 22/30\n",
            "14/14 [==============================] - 0s 18ms/step - loss: 0.5612 - accuracy: 0.7192 - val_loss: 0.5200 - val_accuracy: 0.7403\n",
            "Epoch 23/30\n",
            "14/14 [==============================] - 0s 19ms/step - loss: 0.5861 - accuracy: 0.7149 - val_loss: 0.5225 - val_accuracy: 0.7403\n",
            "Epoch 24/30\n",
            "14/14 [==============================] - 0s 19ms/step - loss: 0.5642 - accuracy: 0.7207 - val_loss: 0.5193 - val_accuracy: 0.7792\n",
            "Epoch 25/30\n",
            "14/14 [==============================] - 0s 19ms/step - loss: 0.5623 - accuracy: 0.7221 - val_loss: 0.5099 - val_accuracy: 0.7922\n",
            "Epoch 26/30\n",
            "14/14 [==============================] - 0s 19ms/step - loss: 0.5571 - accuracy: 0.7178 - val_loss: 0.4983 - val_accuracy: 0.7922\n",
            "Epoch 27/30\n",
            "14/14 [==============================] - 0s 19ms/step - loss: 0.5586 - accuracy: 0.7221 - val_loss: 0.5078 - val_accuracy: 0.7792\n",
            "Epoch 28/30\n",
            "14/14 [==============================] - 0s 19ms/step - loss: 0.5513 - accuracy: 0.7164 - val_loss: 0.4979 - val_accuracy: 0.7792\n",
            "Epoch 29/30\n",
            "14/14 [==============================] - 0s 20ms/step - loss: 0.5516 - accuracy: 0.7149 - val_loss: 0.4976 - val_accuracy: 0.7922\n",
            "Epoch 30/30\n",
            "14/14 [==============================] - 0s 19ms/step - loss: 0.5514 - accuracy: 0.7135 - val_loss: 0.5039 - val_accuracy: 0.7922\n"
          ]
        }
      ]
    },
    {
      "cell_type": "code",
      "source": [
        "def plot_graphs(history, string):\n",
        "    plt.plot(history.history[string])\n",
        "    plt.plot(history.history['val_'+string])\n",
        "    plt.xlabel(\"Epochs\")\n",
        "    plt.ylabel(string)\n",
        "    plt.legend([string, 'val_'+string])\n",
        "    plt.show()\n",
        "plot_graphs(model_history, \"accuracy\")\n",
        "plot_graphs(model_history, \"loss\")"
      ],
      "metadata": {
        "colab": {
          "base_uri": "https://localhost:8080/",
          "height": 541
        },
        "id": "LZGPNcbPaXo9",
        "outputId": "6c694066-14cd-4703-c1d8-0bea3bed06ad"
      },
      "execution_count": null,
      "outputs": [
        {
          "output_type": "display_data",
          "data": {
            "text/plain": [
              "<Figure size 432x288 with 1 Axes>"
            ],
            "image/png": "[encoded data removed]"
          },
          "metadata": {
            "needs_background": "light"
          }
        },
        {
          "output_type": "display_data",
          "data": {
            "text/plain": [
              "<Figure size 432x288 with 1 Axes>"
            ],
            "image/png": "[encoded data removed]"
          },
          "metadata": {
            "needs_background": "light"
          }
        }
      ]
    },
    {
      "cell_type": "code",
      "source": [
        "y_pred = main_model.predict(X_test)\n",
        "y_pred = np.round(y_pred)"
      ],
      "metadata": {
        "id": "7YwWtD3vxeAb"
      },
      "execution_count": null,
      "outputs": []
    },
    {
      "cell_type": "code",
      "source": [
        "# apply counterfactual approach\n",
        "X_pred_negative = X_test[y_pred.reshape(y_pred.shape[0]) == 0]\n",
        "\n",
        "X_pred_negative\n"
      ],
      "metadata": {
        "colab": {
          "base_uri": "https://localhost:8080/"
        },
        "id": "4gl701C-WKcC",
        "outputId": "add8bc0d-5f60-4cef-d86c-74765b5a29b9"
      },
      "execution_count": null,
      "outputs": [
        {
          "output_type": "execute_result",
          "data": {
            "text/plain": [
              "array([[-0.54387645, -0.43334843,  0.24780543,  0.5853351 ,  0.15998789,\n",
              "         0.19191062, -0.18775476, -0.87191292],\n",
              "       [ 0.04843029, -1.42393181, -0.3754286 , -1.29183022, -0.69587362,\n",
              "         0.24285578, -0.22737702, -0.70343087],\n",
              "       [ 0.34458366,  1.45195541,  0.14393309, -0.10295885,  0.80188402,\n",
              "        -0.80151991,  0.37000483,  1.48683585],\n",
              "       [-1.13618318, -0.30553122, -0.2196201 , -1.29183022, -0.69587362,\n",
              "        -0.95435537,  0.59249909, -0.1979847 ],\n",
              "       [-0.84002981, -1.26416029,  0.14393309, -0.16553103, -0.35352902,\n",
              "        -0.6996296 , -0.55654662, -0.7876719 ],\n",
              "       [-0.54387645,  0.20573761, -0.58317328,  0.20990204,  1.65774553,\n",
              "        -0.55953042,  3.45749371, -0.70343087],\n",
              "       [ 0.64073703, -0.56116564,  0.14393309,  0.71047946,  0.93026325,\n",
              "         0.71409846, -0.43158409,  1.82379996],\n",
              "       [ 0.34458366, -0.20966832,  0.24780543, -1.29183022, -0.69587362,\n",
              "        -0.91614651,  0.84851989,  1.99228202],\n",
              "       [-0.54387645, -1.23220599, -0.89479029,  0.08475768,  0.28836712,\n",
              "        -0.45764011,  3.7592325 , -0.70343087],\n",
              "       [ 1.23304376, -1.77542913,  0.14393309,  0.14732986, -0.69587362,\n",
              "        -0.01187   ,  0.4096271 ,  0.7286666 ],\n",
              "       [-1.13618318, -0.40139413, -0.06381159, -0.04038667, -0.69587362,\n",
              "        -0.61047558,  0.97957815, -0.11374367],\n",
              "       [-0.84002981, -1.51979471, -0.99866263, -0.66610845, -0.69587362,\n",
              "        -1.158136  , -0.66322195, -1.04039498],\n",
              "       [ 0.04843029,  0.36550913,  0.87103945,  0.64790728, -0.69587362,\n",
              "        -0.52132155, -0.14203676,  2.49772819],\n",
              "       [ 0.34458366, -0.68898285, -0.79091795,  0.46019075,  0.01449143,\n",
              "         0.24285578,  0.10179257, -0.28222573],\n",
              "       [ 0.04843029,  0.74896075,  0.66329478,  0.71047946, -0.69587362,\n",
              "         0.81598877,  0.26942523,  0.30746146],\n",
              "       [-0.54387645, -0.08185111,  0.55942244, -1.29183022, -0.69587362,\n",
              "         1.37638548,  0.69307869, -1.04039498],\n",
              "       [-0.54387645, -1.07243448, -3.59547108,  0.14732986, -0.69587362,\n",
              "        -0.40669495,  0.93690802, -0.70343087],\n",
              "       [-0.24772308, -1.90324634,  0.66329478,  0.46019075, -0.69587362,\n",
              "         0.29380093, -0.67846128,  1.06563071],\n",
              "       [-0.84002981, -0.75289146, -0.16768393, -0.35324756,  0.50233249,\n",
              "        -1.13266342,  0.06521817, -0.95615395],\n",
              "       [-0.84002981,  0.10987471, -0.47930094,  0.71047946, -0.69587362,\n",
              "         0.47210898,  0.14751057, -1.04039498],\n",
              "       [-1.13618318, -0.52921134,  0.35167776, -1.29183022, -0.69587362,\n",
              "        -1.74400528,  0.3547655 , -0.53494881],\n",
              "       [-0.54387645, -0.27357692, -0.16768393,  0.08475768, -0.69587362,\n",
              "        -0.90341022, -0.48339782, -0.7876719 ],\n",
              "       [ 0.34458366, -0.33748553, -0.06381159, -1.29183022, -0.69587362,\n",
              "        -0.77604733, -0.52911582, -0.28222573],\n",
              "       [ 0.93689039,  0.49332633,  0.24780543,  0.33504639,  0.45953942,\n",
              "        -0.77604733,  0.55287683,  1.48683585],\n",
              "       [-1.13618318, -0.59311994, -0.27155626,  1.58648994, -0.02830164,\n",
              "         1.08345084,  0.09264897, -1.04039498],\n",
              "       [-1.13618318, -0.59311994,  0.87103945, -0.22810321,  0.20278096,\n",
              "        -0.3557498 ,  0.69917442, -0.53494881],\n",
              "       [-0.54387645,  0.0459661 , -0.89479029,  1.39877341,  0.65638756,\n",
              "         0.52305413,  1.06796628, -0.45070779],\n",
              "       [-0.84002981, -0.0498968 , -0.79091795, -0.47839192, -0.26794287,\n",
              "        -1.24729002, -0.79428021, -0.7876719 ],\n",
              "       [ 0.34458366,  1.51586401, -0.27155626, -1.29183022, -0.69587362,\n",
              "         0.1027566 , -1.00763088,  0.64442558],\n",
              "       [ 2.12150386,  0.49332633,  0.76716712,  0.89819599,  0.41674634,\n",
              "        -0.48311269, -0.62664755,  0.7286666 ],\n",
              "       [-0.54387645, -0.11380541,  1.07878413, -0.10295885, -0.08821195,\n",
              "        -0.87793764, -0.46511062, -1.04039498],\n",
              "       [-0.84002981, -0.0498968 , -1.31027964,  1.64906212, -0.15668087,\n",
              "         0.43390011, -0.56569022, -0.70343087],\n",
              "       [-0.24772308,  1.89931564, -0.27155626,  0.27247421, -0.09677056,\n",
              "         0.24285578, -0.59312102, -0.61918984],\n",
              "       [-1.13618318, -0.0498968 , -0.27155626, -0.16553103,  0.09151897,\n",
              "         0.35748238,  0.79061042, -0.87191292],\n",
              "       [-0.24772308, -0.97657157,  0.4555501 , -1.29183022, -0.69587362,\n",
              "         1.35091291,  0.28466457, -1.04039498],\n",
              "       [ 0.64073703, -0.68898285, -0.47930094, -0.10295885, -0.23370841,\n",
              "        -0.66142073,  0.09569684, -0.11374367],\n",
              "       [-0.24772308,  2.31472157,  0.04006075,  0.64790728, -0.69587362,\n",
              "         0.35748238, -0.68455702, -0.70343087],\n",
              "       [-1.13618318, -0.59311994,  0.29974159,  0.14732986, -0.69587362,\n",
              "        -4.08748243,  0.32428683, -1.04039498],\n",
              "       [-0.54387645, -0.40139413, -0.3754286 ,  0.71047946, -0.21659118,\n",
              "        -0.87793764, -1.02896594, -1.04039498],\n",
              "       [-0.24772308,  0.26964622, -0.27155626,  0.52276292,  0.28836712,\n",
              "        -0.72510218, -0.75161008, -0.45070779],\n",
              "       [ 0.04843029, -0.36943983, -0.27155626,  1.46134559,  0.15142927,\n",
              "         0.34474609,  1.33922641, -0.61918984],\n",
              "       [ 0.04843029,  0.14182901,  0.55942244, -1.29183022, -0.69587362,\n",
              "         0.02633887,  0.21456363, -0.53494881],\n",
              "       [ 1.8253505 ,  0.39746343, -0.06381159, -1.29183022, -0.69587362,\n",
              "        -0.64868444, -0.67236555,  0.22322044],\n",
              "       [-0.54387645, -0.40139413, -0.89479029,  0.33504639, -0.15668087,\n",
              "         0.05181144, -0.44987129, -0.95615395],\n",
              "       [ 0.93689039,  0.52528064,  1.07878413,  1.27362906, -0.69587362,\n",
              "        -0.01187   , -0.22737702,  0.47594352],\n",
              "       [-1.13618318, -0.94461727, -0.06381159,  0.71047946,  1.10143555,\n",
              "         0.99429682, -0.25785569, -0.70343087],\n",
              "       [-0.84002981, -3.85245878, -1.10253497, -0.04038667, -0.69587362,\n",
              "        -0.94161909, -0.99239154, -0.95615395],\n",
              "       [-0.84002981, -1.13634308, -0.16768393,  0.52276292, -0.69587362,\n",
              "        -0.6996296 , -0.34929169, -0.1979847 ],\n",
              "       [-0.54387645,  0.42941773,  0.04006075, -1.29183022, -0.69587362,\n",
              "        -0.40669495,  0.23285083, -0.87191292],\n",
              "       [ 1.8253505 , -0.17771401, -3.59547108, -1.29183022, -0.69587362,\n",
              "        -4.08748243, -0.62359968, -0.28222573],\n",
              "       [ 0.04843029,  0.84482366,  0.24780543,  0.27247421,  1.8118006 ,\n",
              "         0.35748238, -0.24566422, -0.28222573],\n",
              "       [-1.13618318,  0.14182901, -0.06381159, -1.29183022, -0.69587362,\n",
              "        -0.94161909, -0.79123235, -1.04039498],\n",
              "       [-1.13618318,  0.55723494, -3.59547108, -1.29183022, -0.69587362,\n",
              "         0.53579042,  1.42456668, -0.70343087],\n",
              "       [-0.24772308,  1.96322424,  0.24780543, -1.29183022, -0.69587362,\n",
              "        -0.20291433, -0.36757889, -0.36646676],\n",
              "       [-0.24772308,  0.0459661 ,  0.4555501 , -1.29183022, -0.69587362,\n",
              "        -1.158136  , -0.64493475,  0.56018455],\n",
              "       [ 1.52919713, -0.46530274, -0.89479029, -1.29183022, -0.69587362,\n",
              "        -0.11376031, -0.26090356,  0.7286666 ],\n",
              "       [ 1.52919713, -1.55174901,  0.4555501 ,  0.27247421, -0.69587362,\n",
              "        -0.06281516, -0.56569022,  0.39170249],\n",
              "       [-0.54387645, -0.40139413, -0.27155626, -1.29183022, -0.69587362,\n",
              "        -0.16470547, -0.93752994, -1.04039498],\n",
              "       [ 0.93689039, -0.0498968 , -3.59547108, -1.29183022, -0.69587362,\n",
              "        -0.87793764, -0.78208875,  0.30746146],\n",
              "       [-1.13618318, -1.10438878, -0.06381159,  0.71047946, -0.69587362,\n",
              "         0.47210898, -0.69370062, -0.70343087],\n",
              "       [ 0.64073703,  1.99517854,  1.28652881, -1.29183022, -0.69587362,\n",
              "         1.10892342,  3.03384025,  0.98138969],\n",
              "       [ 0.04843029,  1.61172692,  0.14393309, -1.29183022, -0.69587362,\n",
              "         1.46553951,  0.04083524, -0.61918984],\n",
              "       [ 0.04843029,  0.52528064,  0.76716712, -1.29183022, -0.69587362,\n",
              "        -0.11376031, -0.65103048, -0.28222573]])"
            ]
          },
          "metadata": {},
          "execution_count": 13
        }
      ]
    },
    {
      "cell_type": "code",
      "source": [
        "X_pred_negative.shape\n",
        "df.info()"
      ],
      "metadata": {
        "colab": {
          "base_uri": "https://localhost:8080/"
        },
        "id": "RnY--iGdxsTh",
        "outputId": "a8b57d14-6a5a-4651-cc20-0ed0a4ad9351"
      },
      "execution_count": null,
      "outputs": [
        {
          "output_type": "stream",
          "name": "stdout",
          "text": [
            "<class 'pandas.core.frame.DataFrame'>\n",
            "RangeIndex: 768 entries, 0 to 767\n",
            "Data columns (total 9 columns):\n",
            " #   Column                    Non-Null Count  Dtype  \n",
            "---  ------                    --------------  -----  \n",
            " 0   Pregnancies               768 non-null    int64  \n",
            " 1   Glucose                   768 non-null    int64  \n",
            " 2   BloodPressure             768 non-null    int64  \n",
            " 3   SkinThickness             768 non-null    int64  \n",
            " 4   Insulin                   768 non-null    int64  \n",
            " 5   BMI                       768 non-null    float64\n",
            " 6   DiabetesPedigreeFunction  768 non-null    float64\n",
            " 7   Age                       768 non-null    int64  \n",
            " 8   Outcome                   768 non-null    int64  \n",
            "dtypes: float64(2), int64(7)\n",
            "memory usage: 54.1 KB\n"
          ]
        }
      ]
    },
    {
      "cell_type": "code",
      "source": [
        "y_Train.shape\n",
        "\n",
        "\n"
      ],
      "metadata": {
        "colab": {
          "base_uri": "https://localhost:8080/"
        },
        "id": "8gzhG2Ts1uxe",
        "outputId": "5b24b3ef-2a2d-4bcd-e8b1-98153c33e65d"
      },
      "execution_count": null,
      "outputs": [
        {
          "output_type": "execute_result",
          "data": {
            "text/plain": [
              "(691, 1)"
            ]
          },
          "metadata": {},
          "execution_count": 17
        }
      ]
    },
    {
      "cell_type": "code",
      "source": [
        "X_train.shape"
      ],
      "metadata": {
        "colab": {
          "base_uri": "https://localhost:8080/"
        },
        "id": "UT-1IENUC91v",
        "outputId": "dd606e67-c0b8-421f-9a67-b3bbf88c89c0"
      },
      "execution_count": null,
      "outputs": [
        {
          "output_type": "execute_result",
          "data": {
            "text/plain": [
              "(691, 8)"
            ]
          },
          "metadata": {},
          "execution_count": 18
        }
      ]
    },
    {
      "cell_type": "code",
      "source": [
        "nn_model = NearestNeighbors(n_neighbors = 1, metric='hamming')\n",
        "\n",
        "target_label = 1 \n",
        "y_Train = np.squeeze(y_Train)\n",
        "X_target_label = X_train[(y_Train)  == target_label, : ] # training using the true labels\n",
        "\n",
        "nn_model.fit(X_target_label)"
      ],
      "metadata": {
        "colab": {
          "base_uri": "https://localhost:8080/"
        },
        "id": "OrjATUzszhqM",
        "outputId": "d5c6e687-ae98-4c48-94ee-b3248767834a"
      },
      "execution_count": null,
      "outputs": [
        {
          "output_type": "execute_result",
          "data": {
            "text/plain": [
              "NearestNeighbors(metric='hamming', n_neighbors=1)"
            ]
          },
          "metadata": {},
          "execution_count": 20
        }
      ]
    },
    {
      "cell_type": "code",
      "source": [
        "# Find the closest neighbor as a counterfactual\n",
        "closest = nn_model.kneighbors(X_pred_negative, return_distance = False)\n",
        "trans_results_nn = X_target_label[closest[:, 0]]\n",
        "\n",
        "trans_results_nn[0]"
      ],
      "metadata": {
        "colab": {
          "base_uri": "https://localhost:8080/"
        },
        "id": "7XhgAWfBE-CM",
        "outputId": "f250bf0a-5e69-4c30-dfc2-cb50275a1c0e"
      },
      "execution_count": null,
      "outputs": [
        {
          "output_type": "execute_result",
          "data": {
            "text/plain": [
              "array([ 3.00996397,  1.73954413, -0.3754286 ,  0.5853351 , -0.69587362,\n",
              "        0.19191062, -0.77294515,  0.39170249])"
            ]
          },
          "metadata": {},
          "execution_count": 21
        }
      ]
    },
    {
      "cell_type": "markdown",
      "source": [
        "Comparison between fraction of valid CFs (i.e. successfully generated counterfactuals)"
      ],
      "metadata": {
        "id": "panxz4CDFlWk"
      }
    },
    {
      "cell_type": "code",
      "source": [
        "y_pred = main_model.predict(X_test)\n",
        "fraction_success = np.sum(y_pred > 0.5)/y_pred.shape[0]\n",
        "print(round(fraction_success, 4))"
      ],
      "metadata": {
        "colab": {
          "base_uri": "https://localhost:8080/"
        },
        "id": "y9RZ3-RDFj78",
        "outputId": "05babb4e-86e3-4c3d-8663-df33073eed85"
      },
      "execution_count": null,
      "outputs": [
        {
          "output_type": "stream",
          "name": "stdout",
          "text": [
            "0.1818\n"
          ]
        }
      ]
    },
    {
      "cell_type": "code",
      "source": [
        "# Counterfactual Results\n",
        "y_pred_new = main_model.predict(trans_results_nn)\n",
        "fraction_success_new = np.sum(y_pred_new > 0.5)/y_pred_new.shape[0]\n",
        "print(round(fraction_success_new, 4))"
      ],
      "metadata": {
        "colab": {
          "base_uri": "https://localhost:8080/"
        },
        "id": "kS5uN5PXF7Xh",
        "outputId": "6614e583-d12f-4347-f11c-ea6f60d9a2bb"
      },
      "execution_count": null,
      "outputs": [
        {
          "output_type": "stream",
          "name": "stdout",
          "text": [
            "0.127\n"
          ]
        }
      ]
    },
    {
      "cell_type": "markdown",
      "source": [
        "Local outlier factor (LOF score)\n",
        "\n",
        "\n"
      ],
      "metadata": {
        "id": "bRUYM0pNGA67"
      }
    },
    {
      "cell_type": "code",
      "source": [
        "clf = LocalOutlierFactor(n_neighbors = 20, novelty = True, contamination = 0.1)\n",
        "clf.fit(X_target_label)"
      ],
      "metadata": {
        "colab": {
          "base_uri": "https://localhost:8080/"
        },
        "id": "UGY_-h2PGEnL",
        "outputId": "e703c259-6b02-4a59-e12c-f405047f4cfa"
      },
      "execution_count": null,
      "outputs": [
        {
          "output_type": "execute_result",
          "data": {
            "text/plain": [
              "LocalOutlierFactor(contamination=0.1, novelty=True)"
            ]
          },
          "metadata": {},
          "execution_count": 25
        }
      ]
    },
    {
      "cell_type": "code",
      "source": [
        "# Get the LOF score for leave-out validation data\n",
        "y_pred_val = clf.predict(X_test)\n",
        "n_error_val = y_pred_test[y_pred_val == -1].size\n",
        "outlier_score_val = n_error_val/X_test.shape[0]\n",
        "outlier_score_val"
      ],
      "metadata": {
        "colab": {
          "base_uri": "https://localhost:8080/"
        },
        "id": "3Hxon-2GGIUL",
        "outputId": "5b04847d-7019-431a-f232-1d9d958cb5ac"
      },
      "execution_count": null,
      "outputs": [
        {
          "output_type": "execute_result",
          "data": {
            "text/plain": [
              "0.06493506493506493"
            ]
          },
          "metadata": {},
          "execution_count": 31
        }
      ]
    },
    {
      "cell_type": "code",
      "source": [
        "# Outlier score for 1NN baseline method\n",
        "# Counterfactual Results\n",
        "y_pred_test = clf.predict(trans_results_nn)\n",
        "n_error_test = y_pred_test[y_pred_test == -1].size\n",
        "\n",
        "outlier_score_test = n_error_test / y_pred_test.shape[0]\n",
        "print(round(outlier_score_test, 4))"
      ],
      "metadata": {
        "colab": {
          "base_uri": "https://localhost:8080/"
        },
        "id": "_Y8TBENoI2fj",
        "outputId": "5692b1dd-5904-4504-d303-c5e5ada095e5"
      },
      "execution_count": null,
      "outputs": [
        {
          "output_type": "stream",
          "name": "stdout",
          "text": [
            "0.0794\n"
          ]
        }
      ]
    },
    {
      "cell_type": "markdown",
      "source": [
        "Edit distance (Levenshtein)"
      ],
      "metadata": {
        "id": "Qf-TMSC7J9HE"
      }
    },
    {
      "cell_type": "code",
      "source": [
        "def get_edit_distance(original, transformed):\n",
        "    edit_distance_pair = [editdistance.eval(o, t) for o, t in zip(original.tolist(), transformed.tolist())]\n",
        "    edit_score = np.mean(edit_distance_pair)\n",
        "    \n",
        "    return round(edit_score, 4)"
      ],
      "metadata": {
        "id": "q3iOAzRXJ8pd"
      },
      "execution_count": null,
      "outputs": []
    },
    {
      "cell_type": "code",
      "source": [
        "get_edit_distance(X_test, X_pred_negative)"
      ],
      "metadata": {
        "colab": {
          "base_uri": "https://localhost:8080/"
        },
        "id": "n1JVxbFiKBW8",
        "outputId": "fd7aa71f-1180-4ada-c859-d20507a08e5e"
      },
      "execution_count": null,
      "outputs": [
        {
          "output_type": "execute_result",
          "data": {
            "text/plain": [
              "7.4762"
            ]
          },
          "metadata": {},
          "execution_count": 40
        }
      ]
    },
    {
      "cell_type": "code",
      "source": [
        "get_edit_distance(trans_results_nn, X_pred_negative)"
      ],
      "metadata": {
        "colab": {
          "base_uri": "https://localhost:8080/"
        },
        "id": "gkHQczc6KFD5",
        "outputId": "b3322d46-a309-4ac4-a5f0-7ae7f5d2dd4d"
      },
      "execution_count": null,
      "outputs": [
        {
          "output_type": "execute_result",
          "data": {
            "text/plain": [
              "5.1429"
            ]
          },
          "metadata": {},
          "execution_count": 41
        }
      ]
    }
  ]
}